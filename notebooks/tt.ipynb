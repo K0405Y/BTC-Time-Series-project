{
 "cells": [
  {
   "cell_type": "code",
   "execution_count": null,
   "id": "4196103f",
   "metadata": {},
   "outputs": [],
   "source": [
    "import os\n",
    "import pandas as pd\n",
    "from sqlalchemy import create_engine\n",
    "# from sqlalchemy.engine import URL\n",
    "from dotenv import load_dotenv\n",
    "\n",
    "def db_connect():\n",
    "    \"\"\"Connect to PostgreSQL database\"\"\"\n",
    "    load_dotenv()\n",
    "    return os.getenv('POSTGRES_URL')\n",
    "\n",
    "def load_btc_data(table_name=\"btc_usd_prices\"):\n",
    "    \"\"\"Load BTC data from database\"\"\"\n",
    "    engine = create_engine(db_connect())\n",
    "    data = pd.read_sql(f\"SELECT * FROM {table_name}\", engine)\n",
    "    return data"
   ]
  },
  {
   "cell_type": "code",
   "execution_count": null,
   "id": "d99eee5d",
   "metadata": {},
   "outputs": [],
   "source": [
    "engine = create_engine(db_connect())\n",
    "print(pd.read_sql(\"SELECT * FROM btc_usd_prices LIMIT 0\", con=engine).columns)"
   ]
  },
  {
   "cell_type": "code",
   "execution_count": null,
   "id": "6f54149d",
   "metadata": {},
   "outputs": [],
   "source": [
    "data = load_btc_data()\n",
    "data.head()"
   ]
  },
  {
   "cell_type": "code",
   "execution_count": null,
   "id": "8bcb1a67",
   "metadata": {},
   "outputs": [],
   "source": [
    "data.rename(columns={\"intervals\":'Datetime'}, inplace=True)\n",
    "\n",
    "data.columns"
   ]
  },
  {
   "cell_type": "code",
   "execution_count": null,
   "id": "d60cafbd",
   "metadata": {},
   "outputs": [],
   "source": [
    "import yfinance as yf\n",
    "def extract_bitcoin_prices(tickers, start, end, interval = '5m'):\n",
    "    \"\"\"Extract BTC prices from Yahoo Finance\"\"\"\n",
    "    print(f\"Extracting {tickers} data for period: {start} - {end}, interval: {interval}\")\n",
    "    return yf.download(\n",
    "        tickers=tickers,\n",
    "        start=start,\n",
    "        end=end,\n",
    "        interval=interval,\n",
    "        multi_level_index=False\n",
    "    )\n",
    "\n",
    "\n",
    "data = extract_bitcoin_prices(tickers='BTC-USD', start='2025-04-01', end='2025-04-02', interval='5m')"
   ]
  },
  {
   "cell_type": "code",
   "execution_count": null,
   "id": "0229b085",
   "metadata": {},
   "outputs": [],
   "source": [
    "data = data.reset_index()\n",
    "data = data.rename(columns={\"Datetime\": \"Intervals\"})\n",
    "\n"
   ]
  },
  {
   "cell_type": "code",
   "execution_count": 13,
   "id": "52b163d0",
   "metadata": {},
   "outputs": [
    {
     "name": "stderr",
     "output_type": "stream",
     "text": [
      "2025/04/19 16:32:56 INFO mlflow.models.python_api: It is highly recommended to use `uv` as the environment manager for predicting with MLflow models as its performance is significantly better than other environment managers. Run `pip install uv` to install uv. See https://docs.astral.sh/uv/getting-started/installation for other installation methods.\n",
      "2025/04/19 16:32:56 INFO mlflow.models.flavor_backend_registry: Selected backend for flavor 'python_function'\n"
     ]
    },
    {
     "name": "stdout",
     "output_type": "stream",
     "text": [
      "{\"predictions\": [{\"forecast\": 77863.51575817206}, {\"forecast\": 77860.80240422081}, {\"forecast\": 77862.6310858779}, {\"forecast\": 77845.29625466226}, {\"forecast\": 77857.56425755388}, {\"forecast\": 77848.88209081821}, {\"forecast\": 77855.02653175875}, {\"forecast\": 77850.67806027447}, {\"forecast\": 77853.75550937562}, {\"forecast\": 77851.57757328833}, {\"forecast\": 77853.11891660366}, {\"forecast\": 77852.02809523861}, {\"forecast\": 77852.8000785071}, {\"forecast\": 77852.2537395868}, {\"forecast\": 77852.64038814258}, {\"forecast\": 77852.36675377365}, {\"forecast\": 77852.56040707132}, {\"forecast\": 77852.42335703684}, {\"forecast\": 77852.52034847553}, {\"forecast\": 77852.45170683514}]}"
     ]
    }
   ],
   "source": [
    "import mlflow\n",
    "from mlflow.models import Model\n",
    "import sys\n",
    "import os\n",
    "# sys.path.append(os.path.abspath(os.path.join(os.path.dirname(__file__), '..', '..')))\n",
    "\n",
    "\n",
    "model_uri = 'runs:/b7035049496241e3bd0906f5e2431905/btc_arima_model'\n",
    "# The model is logged with an input example\n",
    "pyfunc_model = mlflow.pyfunc.load_model(model_uri)\n",
    "input_data = pyfunc_model.input_example\n",
    "\n",
    "# Verify the model with the provided input data using the logged dependencies.\n",
    "# For more details, refer to:\n",
    "# https://mlflow.org/docs/latest/models.html#validate-models-before-deployment\n",
    "mlflow.models.predict(\n",
    "    model_uri=model_uri,\n",
    "    input_data=[20],\n",
    "    env_manager=\"local\",\n",
    ")"
   ]
  }
 ],
 "metadata": {
  "kernelspec": {
   "display_name": ".venv",
   "language": "python",
   "name": "python3"
  },
  "language_info": {
   "codemirror_mode": {
    "name": "ipython",
    "version": 3
   },
   "file_extension": ".py",
   "mimetype": "text/x-python",
   "name": "python",
   "nbconvert_exporter": "python",
   "pygments_lexer": "ipython3",
   "version": "3.11.1"
  }
 },
 "nbformat": 4,
 "nbformat_minor": 5
}
